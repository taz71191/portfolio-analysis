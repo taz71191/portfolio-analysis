{
 "cells": [
  {
   "cell_type": "code",
   "execution_count": 101,
   "id": "e0ccffa6-9909-473e-b77a-ed89b3434908",
   "metadata": {},
   "outputs": [],
   "source": [
    "import pandas as pd\n",
    "import numpy as np\n",
    "import numpy_financial as npf"
   ]
  },
  {
   "cell_type": "code",
   "execution_count": 1,
   "id": "838d4c07-f94d-48e8-b24f-161da00876f7",
   "metadata": {},
   "outputs": [],
   "source": [
    "from portfolio_analysis.data import get_single_company_data, get_all_company_tickers\n",
    "from portfolio_analysis.dcf import get_irr, project_eps"
   ]
  },
  {
   "cell_type": "code",
   "execution_count": 2,
   "id": "3b7f81af-9741-4c03-b23b-1467d5d12648",
   "metadata": {},
   "outputs": [],
   "source": [
    "%load_ext autoreload\n",
    "%autoreload 2"
   ]
  },
  {
   "cell_type": "code",
   "execution_count": 3,
   "id": "4120e3cf-9796-48ac-b835-ccffb5e7b052",
   "metadata": {},
   "outputs": [],
   "source": [
    "from portfolio_analysis.api import apikey"
   ]
  },
  {
   "cell_type": "code",
   "execution_count": 4,
   "id": "04549dca-5ac7-4dbc-aac1-cb726a0fbc7b",
   "metadata": {
    "tags": []
   },
   "outputs": [],
   "source": [
    "company_names = get_all_company_tickers(apikey)"
   ]
  },
  {
   "cell_type": "code",
   "execution_count": 5,
   "id": "6f54b363-0ef6-4e88-b783-1a883000b2c7",
   "metadata": {},
   "outputs": [
    {
     "data": {
      "text/html": [
       "<div>\n",
       "<style scoped>\n",
       "    .dataframe tbody tr th:only-of-type {\n",
       "        vertical-align: middle;\n",
       "    }\n",
       "\n",
       "    .dataframe tbody tr th {\n",
       "        vertical-align: top;\n",
       "    }\n",
       "\n",
       "    .dataframe thead th {\n",
       "        text-align: right;\n",
       "    }\n",
       "</style>\n",
       "<table border=\"1\" class=\"dataframe\">\n",
       "  <thead>\n",
       "    <tr style=\"text-align: right;\">\n",
       "      <th></th>\n",
       "      <th>symbol</th>\n",
       "      <th>name</th>\n",
       "      <th>price</th>\n",
       "      <th>exchange</th>\n",
       "      <th>exchangeShortName</th>\n",
       "      <th>type</th>\n",
       "    </tr>\n",
       "  </thead>\n",
       "  <tbody>\n",
       "    <tr>\n",
       "      <th>0</th>\n",
       "      <td>SPY</td>\n",
       "      <td>SPDR S&amp;P 500 ETF Trust</td>\n",
       "      <td>434.24</td>\n",
       "      <td>New York Stock Exchange Arca</td>\n",
       "      <td>AMEX</td>\n",
       "      <td>etf</td>\n",
       "    </tr>\n",
       "    <tr>\n",
       "      <th>1</th>\n",
       "      <td>CMCSA</td>\n",
       "      <td>Comcast Corporation</td>\n",
       "      <td>57.21</td>\n",
       "      <td>Nasdaq Global Select</td>\n",
       "      <td>NASDAQ</td>\n",
       "      <td>stock</td>\n",
       "    </tr>\n",
       "    <tr>\n",
       "      <th>2</th>\n",
       "      <td>KMI</td>\n",
       "      <td>Kinder Morgan, Inc.</td>\n",
       "      <td>16.91</td>\n",
       "      <td>New York Stock Exchange</td>\n",
       "      <td>NYSE</td>\n",
       "      <td>stock</td>\n",
       "    </tr>\n",
       "    <tr>\n",
       "      <th>3</th>\n",
       "      <td>INTC</td>\n",
       "      <td>Intel Corporation</td>\n",
       "      <td>53.86</td>\n",
       "      <td>Nasdaq Global Select</td>\n",
       "      <td>NASDAQ</td>\n",
       "      <td>stock</td>\n",
       "    </tr>\n",
       "    <tr>\n",
       "      <th>4</th>\n",
       "      <td>MU</td>\n",
       "      <td>Micron Technology, Inc.</td>\n",
       "      <td>70.99</td>\n",
       "      <td>Nasdaq Global Select</td>\n",
       "      <td>NASDAQ</td>\n",
       "      <td>stock</td>\n",
       "    </tr>\n",
       "  </tbody>\n",
       "</table>\n",
       "</div>"
      ],
      "text/plain": [
       "  symbol                     name   price                      exchange  \\\n",
       "0    SPY   SPDR S&P 500 ETF Trust  434.24  New York Stock Exchange Arca   \n",
       "1  CMCSA      Comcast Corporation   57.21          Nasdaq Global Select   \n",
       "2    KMI      Kinder Morgan, Inc.   16.91       New York Stock Exchange   \n",
       "3   INTC        Intel Corporation   53.86          Nasdaq Global Select   \n",
       "4     MU  Micron Technology, Inc.   70.99          Nasdaq Global Select   \n",
       "\n",
       "  exchangeShortName   type  \n",
       "0              AMEX    etf  \n",
       "1            NASDAQ  stock  \n",
       "2              NYSE  stock  \n",
       "3            NASDAQ  stock  \n",
       "4            NASDAQ  stock  "
      ]
     },
     "execution_count": 5,
     "metadata": {},
     "output_type": "execute_result"
    }
   ],
   "source": [
    "company_names.head()"
   ]
  },
  {
   "cell_type": "code",
   "execution_count": 6,
   "id": "51eddf1a-4fe3-4c95-bc18-3d76a085091a",
   "metadata": {},
   "outputs": [],
   "source": [
    "import ipywidgets as widgets"
   ]
  },
  {
   "cell_type": "code",
   "execution_count": 7,
   "id": "06208224-020e-4099-83fe-5e1503c6509b",
   "metadata": {},
   "outputs": [
    {
     "data": {
      "text/html": [
       "<div>\n",
       "<style scoped>\n",
       "    .dataframe tbody tr th:only-of-type {\n",
       "        vertical-align: middle;\n",
       "    }\n",
       "\n",
       "    .dataframe tbody tr th {\n",
       "        vertical-align: top;\n",
       "    }\n",
       "\n",
       "    .dataframe thead th {\n",
       "        text-align: right;\n",
       "    }\n",
       "</style>\n",
       "<table border=\"1\" class=\"dataframe\">\n",
       "  <thead>\n",
       "    <tr style=\"text-align: right;\">\n",
       "      <th></th>\n",
       "      <th>symbol</th>\n",
       "      <th>name</th>\n",
       "      <th>price</th>\n",
       "      <th>exchange</th>\n",
       "      <th>exchangeShortName</th>\n",
       "      <th>type</th>\n",
       "    </tr>\n",
       "  </thead>\n",
       "  <tbody>\n",
       "    <tr>\n",
       "      <th>10</th>\n",
       "      <td>AAPL</td>\n",
       "      <td>Apple Inc.</td>\n",
       "      <td>142.65</td>\n",
       "      <td>Nasdaq Global Select</td>\n",
       "      <td>NASDAQ</td>\n",
       "      <td>stock</td>\n",
       "    </tr>\n",
       "  </tbody>\n",
       "</table>\n",
       "</div>"
      ],
      "text/plain": [
       "   symbol        name   price              exchange exchangeShortName   type\n",
       "10   AAPL  Apple Inc.  142.65  Nasdaq Global Select            NASDAQ  stock"
      ]
     },
     "execution_count": 7,
     "metadata": {},
     "output_type": "execute_result"
    }
   ],
   "source": [
    "company_names[company_names.symbol == 'AAPL']"
   ]
  },
  {
   "cell_type": "code",
   "execution_count": 10,
   "id": "101c211f-56ef-4174-9a85-1cebaf68eb1e",
   "metadata": {},
   "outputs": [
    {
     "data": {
      "application/vnd.jupyter.widget-view+json": {
       "model_id": "054c755b8d474540b797d896cc9089b3",
       "version_major": 2,
       "version_minor": 0
      },
      "text/plain": [
       "Dropdown(index=32, options=('', 'AMEX', 'ASE', 'Amsterdam', 'Athens', 'BATS', 'BATS Exchange', 'Berlin', 'Brus…"
      ]
     },
     "metadata": {},
     "output_type": "display_data"
    }
   ],
   "source": [
    "exchange_name = widgets.Dropdown(\n",
    "    options=company_names.exchange.sort_values().unique(),\n",
    "    value='NASDAQ',\n",
    "    disabled=False,\n",
    "); exchange_name"
   ]
  },
  {
   "cell_type": "code",
   "execution_count": 11,
   "id": "d3d827a9-9fca-4977-bea0-bee7a8b46d61",
   "metadata": {},
   "outputs": [
    {
     "data": {
      "application/vnd.jupyter.widget-view+json": {
       "model_id": "1c68ffac205c43f480b429533c003db7",
       "version_major": 2,
       "version_minor": 0
      },
      "text/plain": [
       "Dropdown(options=(' Nuveen Corporate Income November 2021 Target Term Fund', ' Saba Capital Income & Opportuni…"
      ]
     },
     "metadata": {},
     "output_type": "display_data"
    }
   ],
   "source": [
    "company_name = widgets.Dropdown(\n",
    "    options=company_names[company_names.exchange == exchange_name.value].name.sort_values().to_list(),\n",
    "    disabled=False,\n",
    "); company_name"
   ]
  },
  {
   "cell_type": "code",
   "execution_count": null,
   "id": "cee24c02-23f5-4c51-86d5-b72854be1e29",
   "metadata": {},
   "outputs": [],
   "source": [
    "# Issues Identified -\n",
    "\n",
    "# Bug: Was only taking mean of -3 value \n",
    "\n",
    "# Outlier EPS ROC for eg: eps change from 0.01 to 2 - huge roc OR changes from -ve to +ve\n",
    "# Solution:\n",
    "# Changed mean of prior 3 periods eps and eps_roc to median to reduce effect of outliers to get base eps and eps_roc\n",
    "# Have a flag to indicate if eps_roc over the last 3 years has been only positive or if there was a -ve value\n",
    "# List eps over the past 3 periods\n",
    "\n",
    "# Negative eps_roc\n",
    "# Resulted in + eps is alternate years\n",
    "# Solution: Is eps_roc is less than 0.01 then change to 0.01\n",
    "\n",
    "# Rolling median eps_roc is an outlier\n",
    "# Solution: take the lower of the eps_roc and the rolling_rps_roc"
   ]
  },
  {
   "cell_type": "code",
   "execution_count": 155,
   "id": "37f970ef-47a6-4f1d-a54a-040e78b74983",
   "metadata": {},
   "outputs": [
    {
     "name": "stderr",
     "output_type": "stream",
     "text": [
      "/Users/murtazavahanvaty/OneDrive - Cornerstone Capabilities/Personal/portfolio-analysis/portfolio_analysis/dcf.py:317: RuntimeWarning: invalid value encountered in double_scalars\n",
      "  else:\n"
     ]
    }
   ],
   "source": [
    "company = company_names[(company_names.name == company_name.value) & (company_names.exchange == exchange_name.value)].iloc[0]\n",
    "company_data_dict = get_single_company_data(company[\"symbol\"], apikey)\n",
    "IS = company_data_dict[\"IS\"]\n",
    "profile = company_data_dict[\"Profile\"]\n",
    "BS = company_data_dict[\"BS\"]\n",
    "MC = company_data_dict[\"MC\"]\n",
    "CFR = company_data_dict[\"CFR\"]\n",
    "company_analysis = get_irr(company, \n",
    "                       company_data_dict[\"IS\"], \n",
    "                       company_data_dict[\"Profile\"],\n",
    "                       company_data_dict[\"BS\"],\n",
    "                       company_data_dict[\"MC\"],\n",
    "                       company_data_dict[\"CFR\"])"
   ]
  },
  {
   "cell_type": "code",
   "execution_count": 156,
   "id": "ddd1f9fd-159e-4a41-a8c0-3a706365219d",
   "metadata": {},
   "outputs": [
    {
     "data": {
      "text/plain": [
       "symbol                                         ITCB\n",
       "name                                 Itaú Corpbanca\n",
       "price                                          3.71\n",
       "irr                                      101.282237\n",
       "npv                                     2505.092796\n",
       "eps_roc                                        0.01\n",
       "eps_diluted                                0.296016\n",
       "MOP                                             0.0\n",
       "QA                                              NaN\n",
       "MCap                                  1267354520.32\n",
       "PE                                         1.278541\n",
       "eps_roc_flag                               Negative\n",
       "eps_base                                      372.0\n",
       "eps_list         [504.0, 372.0, -472.6372081286305]\n",
       "error_message                                      \n",
       "dtype: object"
      ]
     },
     "execution_count": 156,
     "metadata": {},
     "output_type": "execute_result"
    }
   ],
   "source": [
    "company_analysis"
   ]
  },
  {
   "cell_type": "code",
   "execution_count": 140,
   "id": "0f2867ae-0684-424c-b4ec-3e2a1da3d4e6",
   "metadata": {},
   "outputs": [],
   "source": [
    "df = IS\n",
    "df[\"year\"] = df[\"date\"].apply(lambda x: x[:4])\n",
    "#     Find rate of change of eps yoy\n",
    "df = df.sort_values(by=\"year\")\n",
    "df[f\"{metric}_roc\"] = df[f\"{metric}\"].pct_change()"
   ]
  },
  {
   "cell_type": "code",
   "execution_count": 154,
   "id": "bdb267be-5cd8-4310-9ea5-cc1d746e4956",
   "metadata": {},
   "outputs": [
    {
     "data": {
      "text/html": [
       "<div>\n",
       "<style scoped>\n",
       "    .dataframe tbody tr th:only-of-type {\n",
       "        vertical-align: middle;\n",
       "    }\n",
       "\n",
       "    .dataframe tbody tr th {\n",
       "        vertical-align: top;\n",
       "    }\n",
       "\n",
       "    .dataframe thead th {\n",
       "        text-align: right;\n",
       "    }\n",
       "</style>\n",
       "<table border=\"1\" class=\"dataframe\">\n",
       "  <thead>\n",
       "    <tr style=\"text-align: right;\">\n",
       "      <th></th>\n",
       "      <th>year</th>\n",
       "      <th>eps</th>\n",
       "      <th>eps_roc</th>\n",
       "    </tr>\n",
       "  </thead>\n",
       "  <tbody>\n",
       "    <tr>\n",
       "      <th>20</th>\n",
       "      <td>2000</td>\n",
       "      <td>135.000135</td>\n",
       "      <td>NaN</td>\n",
       "    </tr>\n",
       "    <tr>\n",
       "      <th>19</th>\n",
       "      <td>2001</td>\n",
       "      <td>270.000270</td>\n",
       "      <td>NaN</td>\n",
       "    </tr>\n",
       "    <tr>\n",
       "      <th>18</th>\n",
       "      <td>2002</td>\n",
       "      <td>255.000255</td>\n",
       "      <td>NaN</td>\n",
       "    </tr>\n",
       "    <tr>\n",
       "      <th>17</th>\n",
       "      <td>2003</td>\n",
       "      <td>390.000390</td>\n",
       "      <td>0.529412</td>\n",
       "    </tr>\n",
       "    <tr>\n",
       "      <th>16</th>\n",
       "      <td>2004</td>\n",
       "      <td>330.000333</td>\n",
       "      <td>-0.055556</td>\n",
       "    </tr>\n",
       "    <tr>\n",
       "      <th>15</th>\n",
       "      <td>2005</td>\n",
       "      <td>346.807763</td>\n",
       "      <td>0.050932</td>\n",
       "    </tr>\n",
       "    <tr>\n",
       "      <th>14</th>\n",
       "      <td>2006</td>\n",
       "      <td>254.792586</td>\n",
       "      <td>-0.153846</td>\n",
       "    </tr>\n",
       "    <tr>\n",
       "      <th>13</th>\n",
       "      <td>2007</td>\n",
       "      <td>330.179614</td>\n",
       "      <td>0.050932</td>\n",
       "    </tr>\n",
       "    <tr>\n",
       "      <th>12</th>\n",
       "      <td>2008</td>\n",
       "      <td>372.241634</td>\n",
       "      <td>0.127391</td>\n",
       "    </tr>\n",
       "    <tr>\n",
       "      <th>11</th>\n",
       "      <td>2009</td>\n",
       "      <td>577.500578</td>\n",
       "      <td>0.295876</td>\n",
       "    </tr>\n",
       "    <tr>\n",
       "      <th>10</th>\n",
       "      <td>2010</td>\n",
       "      <td>771.317459</td>\n",
       "      <td>0.335613</td>\n",
       "    </tr>\n",
       "    <tr>\n",
       "      <th>9</th>\n",
       "      <td>2011</td>\n",
       "      <td>724.662375</td>\n",
       "      <td>0.335613</td>\n",
       "    </tr>\n",
       "    <tr>\n",
       "      <th>8</th>\n",
       "      <td>2012</td>\n",
       "      <td>648.000000</td>\n",
       "      <td>-0.060488</td>\n",
       "    </tr>\n",
       "    <tr>\n",
       "      <th>7</th>\n",
       "      <td>2013</td>\n",
       "      <td>720.000000</td>\n",
       "      <td>-0.060488</td>\n",
       "    </tr>\n",
       "    <tr>\n",
       "      <th>6</th>\n",
       "      <td>2014</td>\n",
       "      <td>997.155370</td>\n",
       "      <td>0.111111</td>\n",
       "    </tr>\n",
       "    <tr>\n",
       "      <th>5</th>\n",
       "      <td>2015</td>\n",
       "      <td>960.000000</td>\n",
       "      <td>0.111111</td>\n",
       "    </tr>\n",
       "    <tr>\n",
       "      <th>4</th>\n",
       "      <td>2016</td>\n",
       "      <td>52.500000</td>\n",
       "      <td>-0.037261</td>\n",
       "    </tr>\n",
       "    <tr>\n",
       "      <th>3</th>\n",
       "      <td>2017</td>\n",
       "      <td>198.000000</td>\n",
       "      <td>-0.037261</td>\n",
       "    </tr>\n",
       "    <tr>\n",
       "      <th>2</th>\n",
       "      <td>2018</td>\n",
       "      <td>504.000000</td>\n",
       "      <td>1.545455</td>\n",
       "    </tr>\n",
       "    <tr>\n",
       "      <th>1</th>\n",
       "      <td>2019</td>\n",
       "      <td>372.000000</td>\n",
       "      <td>1.545455</td>\n",
       "    </tr>\n",
       "    <tr>\n",
       "      <th>0</th>\n",
       "      <td>2020</td>\n",
       "      <td>-472.637208</td>\n",
       "      <td>-0.261905</td>\n",
       "    </tr>\n",
       "  </tbody>\n",
       "</table>\n",
       "</div>"
      ],
      "text/plain": [
       "    year         eps   eps_roc\n",
       "20  2000  135.000135       NaN\n",
       "19  2001  270.000270       NaN\n",
       "18  2002  255.000255       NaN\n",
       "17  2003  390.000390  0.529412\n",
       "16  2004  330.000333 -0.055556\n",
       "15  2005  346.807763  0.050932\n",
       "14  2006  254.792586 -0.153846\n",
       "13  2007  330.179614  0.050932\n",
       "12  2008  372.241634  0.127391\n",
       "11  2009  577.500578  0.295876\n",
       "10  2010  771.317459  0.335613\n",
       "9   2011  724.662375  0.335613\n",
       "8   2012  648.000000 -0.060488\n",
       "7   2013  720.000000 -0.060488\n",
       "6   2014  997.155370  0.111111\n",
       "5   2015  960.000000  0.111111\n",
       "4   2016   52.500000 -0.037261\n",
       "3   2017  198.000000 -0.037261\n",
       "2   2018  504.000000  1.545455\n",
       "1   2019  372.000000  1.545455\n",
       "0   2020 -472.637208 -0.261905"
      ]
     },
     "execution_count": 154,
     "metadata": {},
     "output_type": "execute_result"
    }
   ],
   "source": [
    "df[['year','eps','eps_roc']]"
   ]
  },
  {
   "cell_type": "code",
   "execution_count": 151,
   "id": "72afd17d-fb73-4cc9-92c7-18cdb5f94f14",
   "metadata": {},
   "outputs": [],
   "source": [
    "df[f\"{metric}_roc\"] = df[f\"{metric}_roc\"].rolling(3).median()"
   ]
  },
  {
   "cell_type": "code",
   "execution_count": 152,
   "id": "2660215d-3615-4826-99b4-34a2baafef43",
   "metadata": {},
   "outputs": [],
   "source": [
    "eps_base = df[f\"{metric}\"].iloc[-3:].median()\n",
    "eps_roc = df[f\"{metric}_roc\"].iloc[-3:].median()"
   ]
  },
  {
   "cell_type": "code",
   "execution_count": 153,
   "id": "3e3f9fff-b871-4988-b421-627855d9161d",
   "metadata": {},
   "outputs": [
    {
     "data": {
      "text/plain": [
       "1.5454545454545454"
      ]
     },
     "execution_count": 153,
     "metadata": {},
     "output_type": "execute_result"
    }
   ],
   "source": [
    "eps_roc"
   ]
  },
  {
   "cell_type": "code",
   "execution_count": 143,
   "id": "77f1f7d0-1a2d-4445-b343-cbab54d442dd",
   "metadata": {},
   "outputs": [],
   "source": [
    "new_df = pd.DataFrame()\n",
    "new_df[\"year\"] = [i for i in range(int(df.loc[0, 'year']) +1, int(df.loc[0, 'year']) +11)]\n",
    "future_eps = []\n",
    "#     DO this for a optimistic and pessimistic scenario\n",
    "for i in range(len(new_df[\"year\"])):\n",
    "    if i == 0:\n",
    "        future_eps.append(eps_base * (1 + eps_roc))\n",
    "    else:\n",
    "        future_eps.append(future_eps[i - 1] * (1 + eps_roc))\n",
    "new_df[f\"{metric}\"] = future_eps"
   ]
  },
  {
   "cell_type": "code",
   "execution_count": 144,
   "id": "419c9458-b738-48cb-b76d-3a7b3ea9c9b5",
   "metadata": {},
   "outputs": [
    {
     "data": {
      "text/html": [
       "<div>\n",
       "<style scoped>\n",
       "    .dataframe tbody tr th:only-of-type {\n",
       "        vertical-align: middle;\n",
       "    }\n",
       "\n",
       "    .dataframe tbody tr th {\n",
       "        vertical-align: top;\n",
       "    }\n",
       "\n",
       "    .dataframe thead th {\n",
       "        text-align: right;\n",
       "    }\n",
       "</style>\n",
       "<table border=\"1\" class=\"dataframe\">\n",
       "  <thead>\n",
       "    <tr style=\"text-align: right;\">\n",
       "      <th></th>\n",
       "      <th>year</th>\n",
       "      <th>eps</th>\n",
       "    </tr>\n",
       "  </thead>\n",
       "  <tbody>\n",
       "    <tr>\n",
       "      <th>0</th>\n",
       "      <td>2021</td>\n",
       "      <td>274.571429</td>\n",
       "    </tr>\n",
       "    <tr>\n",
       "      <th>1</th>\n",
       "      <td>2022</td>\n",
       "      <td>202.659864</td>\n",
       "    </tr>\n",
       "    <tr>\n",
       "      <th>2</th>\n",
       "      <td>2023</td>\n",
       "      <td>149.582281</td>\n",
       "    </tr>\n",
       "    <tr>\n",
       "      <th>3</th>\n",
       "      <td>2024</td>\n",
       "      <td>110.405969</td>\n",
       "    </tr>\n",
       "    <tr>\n",
       "      <th>4</th>\n",
       "      <td>2025</td>\n",
       "      <td>81.490120</td>\n",
       "    </tr>\n",
       "    <tr>\n",
       "      <th>5</th>\n",
       "      <td>2026</td>\n",
       "      <td>60.147469</td>\n",
       "    </tr>\n",
       "    <tr>\n",
       "      <th>6</th>\n",
       "      <td>2027</td>\n",
       "      <td>44.394561</td>\n",
       "    </tr>\n",
       "    <tr>\n",
       "      <th>7</th>\n",
       "      <td>2028</td>\n",
       "      <td>32.767414</td>\n",
       "    </tr>\n",
       "    <tr>\n",
       "      <th>8</th>\n",
       "      <td>2029</td>\n",
       "      <td>24.185472</td>\n",
       "    </tr>\n",
       "    <tr>\n",
       "      <th>9</th>\n",
       "      <td>2030</td>\n",
       "      <td>17.851182</td>\n",
       "    </tr>\n",
       "  </tbody>\n",
       "</table>\n",
       "</div>"
      ],
      "text/plain": [
       "   year         eps\n",
       "0  2021  274.571429\n",
       "1  2022  202.659864\n",
       "2  2023  149.582281\n",
       "3  2024  110.405969\n",
       "4  2025   81.490120\n",
       "5  2026   60.147469\n",
       "6  2027   44.394561\n",
       "7  2028   32.767414\n",
       "8  2029   24.185472\n",
       "9  2030   17.851182"
      ]
     },
     "execution_count": 144,
     "metadata": {},
     "output_type": "execute_result"
    }
   ],
   "source": [
    "new_df"
   ]
  },
  {
   "cell_type": "code",
   "execution_count": null,
   "id": "fc52240c-ab90-4a6e-a737-beff444f8735",
   "metadata": {},
   "outputs": [],
   "source": []
  }
 ],
 "metadata": {
  "kernelspec": {
   "display_name": "Python 3 (ipykernel)",
   "language": "python",
   "name": "python3"
  },
  "language_info": {
   "codemirror_mode": {
    "name": "ipython",
    "version": 3
   },
   "file_extension": ".py",
   "mimetype": "text/x-python",
   "name": "python",
   "nbconvert_exporter": "python",
   "pygments_lexer": "ipython3",
   "version": "3.8.7"
  }
 },
 "nbformat": 4,
 "nbformat_minor": 5
}
