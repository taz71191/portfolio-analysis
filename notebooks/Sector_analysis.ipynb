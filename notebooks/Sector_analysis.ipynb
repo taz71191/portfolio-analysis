{
 "cells": [
  {
   "cell_type": "code",
   "execution_count": 80,
   "id": "4c9d4f6d-0ace-4309-876f-e8f5d915c122",
   "metadata": {},
   "outputs": [],
   "source": [
    "import pandas as pd\n",
    "import numpy as np\n",
    "import pickle"
   ]
  },
  {
   "cell_type": "code",
   "execution_count": 65,
   "id": "1697d923-a4a6-457a-91b4-d157a5f5c9e1",
   "metadata": {},
   "outputs": [],
   "source": [
    "all_companies = pd.read_csv('AllCompanies_October.csv')"
   ]
  },
  {
   "cell_type": "code",
   "execution_count": 66,
   "id": "c74cc622-2de3-47de-99de-dc9a9b734292",
   "metadata": {},
   "outputs": [],
   "source": [
    "company_sectors = pd.read_csv('company_sectors.csv')"
   ]
  },
  {
   "cell_type": "code",
   "execution_count": 67,
   "id": "7f20cb1b-0f4b-4d47-b3a1-d3bf3f78a704",
   "metadata": {},
   "outputs": [],
   "source": [
    "all_companies = all_companies.merge(company_sectors[[\"symbol\",\"sector\"]], on=\"symbol\")"
   ]
  },
  {
   "cell_type": "code",
   "execution_count": 9,
   "id": "875dd547-e71f-4b73-89f3-000f800329d6",
   "metadata": {},
   "outputs": [],
   "source": [
    "with open('company_metrics_dict.pickle', 'rb') as handle:\n",
    "    company_metrics = pickle.load(handle)"
   ]
  },
  {
   "cell_type": "code",
   "execution_count": 62,
   "id": "6ae8609c-eecb-4188-989d-515638f0f586",
   "metadata": {},
   "outputs": [],
   "source": [
    "# prior year change in epd and revenue, past 5 years\n",
    "percent_change_df = pd.DataFrame()\n",
    "for key in company_metrics.keys():\n",
    "    df = company_metrics[key]\n",
    "    df = df.dropna(subset=[\"eps\",\"revenue\"]).sort_values(by='year')\n",
    "    df['pct_change_eps'] = df['eps'].pct_change()\n",
    "    df['pct_change_revenue'] = df['revenue'].pct_change()\n",
    "    if len(df) > 5:\n",
    "        percent_change_last_year_eps = df.loc[:, 'pct_change_eps'].iloc[-1]\n",
    "        percent_change_last_year_rev = df.loc[:, 'pct_change_revenue'].iloc[-1]\n",
    "        percent_change_last_5year_eps = df.loc[:, 'pct_change_eps'].iloc[-5:].mean()\n",
    "        percent_change_last_5year_rev = df.loc[:, 'pct_change_revenue'].iloc[-5:].mean()\n",
    "    elif len(df) > 2:\n",
    "        percent_change_last_year_eps = df.loc[:, 'pct_change_eps'].iloc[-1]\n",
    "        percent_change_last_year_rev = df.loc[:, 'pct_change_revenue'].iloc[-1]\n",
    "        percent_change_last_5year_eps = df.loc[:, 'pct_change_eps'].iloc[-len(df):].mean()\n",
    "        percent_change_last_5year_rev = df.loc[:, 'pct_change_revenue'].iloc[-len(df):].mean()\n",
    "    else:\n",
    "        continue\n",
    "    percent_change_df = percent_change_df.append(pd.Series({\"symbol\": key, \n",
    "                                                            \"percent_change_last_year_eps\": percent_change_last_year_eps,\n",
    "                                                           \"percent_change_last_year_rev\": percent_change_last_year_rev,\n",
    "                                                           \"percent_change_last_5year_eps\": percent_change_last_5year_eps,\n",
    "                                                           \"percent_change_last_5year_rev\": percent_change_last_5year_rev}), ignore_index=True)\n",
    "    "
   ]
  },
  {
   "cell_type": "code",
   "execution_count": 68,
   "id": "f52dc77b-8c67-43d1-b2ea-69946bb275fc",
   "metadata": {},
   "outputs": [],
   "source": [
    "all_companies = all_companies.merge(percent_change_df, on=\"symbol\")"
   ]
  },
  {
   "cell_type": "code",
   "execution_count": 72,
   "id": "0bae4fc6-b0c1-4856-8628-99b00349a1d8",
   "metadata": {},
   "outputs": [
    {
     "data": {
      "text/plain": [
       "Index(['symbol', 'name', 'price', 'income_statement_date', 'ROC',\n",
       "       'EarningsYield', 'irr', 'npv_mean', 'npv_regression', 'regression_type',\n",
       "       'eps_roc', 'eps_roc_regression', 'ROE', 'eps_diluted', 'MOP', 'QA',\n",
       "       'MCap', 'eps_roc_flag', 'eps_base', 'eps_list', 'error_message',\n",
       "       'industry', 'dividend_ratio', 'dividend_trend',\n",
       "       'commonstock_repurchased_trend', 'commonstock_repurchased', 'PE',\n",
       "       'sector', 'percent_change_last_year_eps',\n",
       "       'percent_change_last_year_rev', 'percent_change_last_5year_eps',\n",
       "       'percent_change_last_5year_rev'],\n",
       "      dtype='object')"
      ]
     },
     "execution_count": 72,
     "metadata": {},
     "output_type": "execute_result"
    }
   ],
   "source": [
    "all_companies.columns"
   ]
  },
  {
   "cell_type": "code",
   "execution_count": 76,
   "id": "7e5e5fa3-b592-4df3-b498-e69116d351d4",
   "metadata": {},
   "outputs": [],
   "source": [
    "# Only include companies > 1bn MCAP\n",
    "sector_analysis_companies = all_companies[all_companies.MCap > 10**9]"
   ]
  },
  {
   "cell_type": "code",
   "execution_count": 81,
   "id": "b9bdb043-4de4-446a-bb30-e7e6855e4204",
   "metadata": {},
   "outputs": [],
   "source": [
    "sector_analysis_companies = sector_analysis_companies.replace(np.inf, 0)"
   ]
  },
  {
   "cell_type": "code",
   "execution_count": 82,
   "id": "b244afc9-309d-4a3d-8bef-644e2d4419fd",
   "metadata": {},
   "outputs": [],
   "source": [
    "sector_analysis_companies = sector_analysis_companies.dropna(subset=[\"sector\",\"percent_change_last_year_eps\",\n",
    "                                                                     \"percent_change_last_year_rev\",\n",
    "                                                                     \"percent_change_last_5year_eps\",\n",
    "                                                                     \"percent_change_last_5year_rev\",\n",
    "                                                                    \"ROC\", \"EarningsYield\",\"dividend_ratio\"])"
   ]
  },
  {
   "cell_type": "code",
   "execution_count": 86,
   "id": "24165399-f6ef-4ca4-b29d-6f0444fa7a80",
   "metadata": {},
   "outputs": [],
   "source": [
    "sector_analysis = sector_analysis_companies[[\"sector\",\"percent_change_last_year_eps\",\n",
    "                                                                     \"percent_change_last_year_rev\",\n",
    "                                                                     \"percent_change_last_5year_eps\",\n",
    "                                                                     \"percent_change_last_5year_rev\",\n",
    "                                                                    \"ROC\", \"EarningsYield\",\"dividend_ratio\"]].groupby([\"sector\"]).agg(\"mean\").reset_index()"
   ]
  },
  {
   "cell_type": "code",
   "execution_count": 90,
   "id": "28c4ff7f-721e-459c-8cb8-5e39d2e32d19",
   "metadata": {},
   "outputs": [],
   "source": [
    "sector_analysis.to_csv('sector_analysis.csv')"
   ]
  },
  {
   "cell_type": "code",
   "execution_count": 94,
   "id": "4e70f57d-751b-414d-b031-6568687adfa2",
   "metadata": {},
   "outputs": [],
   "source": [
    "acws = all_companies.merge(sector_analysis, on=\"sector\", suffixes=(\"\",\"_sector\"))"
   ]
  },
  {
   "cell_type": "code",
   "execution_count": 97,
   "id": "60d11244-bbd5-43cf-be9a-31fc99cfa81e",
   "metadata": {},
   "outputs": [],
   "source": [
    "acws.to_csv(\"AllCompanies_October_w_sector.csv\")"
   ]
  },
  {
   "cell_type": "code",
   "execution_count": 98,
   "id": "65b87b7b-5cbb-4a39-bfdc-96a968015a8c",
   "metadata": {},
   "outputs": [
    {
     "data": {
      "text/plain": [
       "array(['Aerospace & Defense', 'Airlines', 'Auto Components',\n",
       "       'Automobiles', 'Banking', 'Basic Materials', 'Beverages',\n",
       "       'Biotechnology', 'Building', 'Chemicals',\n",
       "       'Commercial Services & Supplies', 'Communication Services',\n",
       "       'Construction', 'Consumer Cyclical', 'Consumer Defensive',\n",
       "       'Consumer products', 'Distributors',\n",
       "       'Diversified Consumer Services', 'Electrical Equipment', 'Energy',\n",
       "       'Financial Services', 'Food Products', 'Healthcare',\n",
       "       'Hotels, Restaurants & Leisure', 'Industrials', 'Insurance',\n",
       "       'Leisure Products', 'Life Sciences Tools & Services',\n",
       "       'Logistics & Transportation', 'Machinery', 'Marine', 'Media',\n",
       "       'Metals & Mining', 'Packaging', 'Paper & Forest',\n",
       "       'Pharmaceuticals', 'Professional Services', 'Real Estate',\n",
       "       'Retail', 'Road & Rail', 'Semiconductors', 'Technology',\n",
       "       'Telecommunication', 'Textiles, Apparel & Luxury Goods', 'Tobacco',\n",
       "       'Trading Companies & Distributors',\n",
       "       'Transportation Infrastructure', 'Utilities'], dtype=object)"
      ]
     },
     "execution_count": 98,
     "metadata": {},
     "output_type": "execute_result"
    }
   ],
   "source": [
    "sector_analysis.sector.unique()"
   ]
  },
  {
   "cell_type": "code",
   "execution_count": null,
   "id": "47d923b0-795e-4efc-9362-df7bffa9764c",
   "metadata": {},
   "outputs": [],
   "source": []
  }
 ],
 "metadata": {
  "kernelspec": {
   "display_name": "Python 3 (ipykernel)",
   "language": "python",
   "name": "python3"
  },
  "language_info": {
   "codemirror_mode": {
    "name": "ipython",
    "version": 3
   },
   "file_extension": ".py",
   "mimetype": "text/x-python",
   "name": "python",
   "nbconvert_exporter": "python",
   "pygments_lexer": "ipython3",
   "version": "3.8.7"
  }
 },
 "nbformat": 4,
 "nbformat_minor": 5
}
