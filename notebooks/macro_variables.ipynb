{
 "cells": [
  {
   "cell_type": "code",
   "execution_count": 2,
   "id": "ef658344-81fe-4cd5-82a1-b1d61dc86c58",
   "metadata": {},
   "outputs": [],
   "source": [
    "from portfolio_analysis.api import fred_apikey"
   ]
  },
  {
   "cell_type": "code",
   "execution_count": 36,
   "id": "195a89e7-0d77-4b72-aeb6-1fa10f1af471",
   "metadata": {},
   "outputs": [],
   "source": [
    "import pandas as pd"
   ]
  },
  {
   "cell_type": "code",
   "execution_count": 3,
   "id": "6b785730-05e2-4b2a-8991-36937d763500",
   "metadata": {},
   "outputs": [],
   "source": [
    "from fredapi import Freda"
   ]
  },
  {
   "cell_type": "code",
   "execution_count": 6,
   "id": "a55ab2da-00df-4c14-99c1-52ae8dc8fe51",
   "metadata": {},
   "outputs": [],
   "source": [
    "fred = Fred(api_key=fred_apikey)\n",
    "data = fred.get_series_latest_release('FYGDP')"
   ]
  },
  {
   "cell_type": "code",
   "execution_count": 57,
   "id": "885b96f3-29b2-4881-b6e8-ce035d1a4bd2",
   "metadata": {},
   "outputs": [],
   "source": [
    "macro_variables = { \"GDP\": 'GDP', \"DFEDTARU\" : \"Federal Funds Target Range - Upper Limit\", \"DGS10\" : \"Market Yield on U.S. Treasury Securities at 10-Year Constant Maturity\",\n",
    "                   \"T5YIE\": \"5-Year Breakeven Inflation Rate\", \"BAMLH0A0HYM2\": \"ICE BofA US High Yield Index Option-Adjusted Spread\",'A422RC1Q027SBEA': \"\",\"CPIAUCSL\": \"\",\n",
    "                  \"SP500\":\"\"}\n"
   ]
  },
  {
   "cell_type": "code",
   "execution_count": 22,
   "id": "18e4ed77-2fb3-4788-8368-7c4653aeb42f",
   "metadata": {},
   "outputs": [
    {
     "data": {
      "text/plain": [
       "'National income without capital consumption adjustment'"
      ]
     },
     "execution_count": 22,
     "metadata": {},
     "output_type": "execute_result"
    }
   ],
   "source": [
    "info = fred.get_series_info('A422RC1Q027SBEA')\n",
    "info['title']"
   ]
  },
  {
   "cell_type": "code",
   "execution_count": 58,
   "id": "a9a049cd-9993-4292-a0b1-03a8b6a11f82",
   "metadata": {},
   "outputs": [
    {
     "name": "stdout",
     "output_type": "stream",
     "text": [
      "Gross Domestic Product Quarterly Q\n",
      "Federal Funds Target Range - Upper Limit Daily, 7-Day D\n",
      "Market Yield on U.S. Treasury Securities at 10-Year Constant Maturity Daily D\n",
      "5-Year Breakeven Inflation Rate Daily D\n",
      "ICE BofA US High Yield Index Option-Adjusted Spread Daily, Close D\n",
      "National income without capital consumption adjustment Quarterly Q\n",
      "Consumer Price Index for All Urban Consumers: All Items in U.S. City Average Monthly M\n",
      "S&P 500 Daily, Close D\n"
     ]
    }
   ],
   "source": [
    "macro_data = pd.DataFrame()\n",
    "for key in macro_variables.keys():\n",
    "    data = fred.get_series(key, observation_start='2000-09-02', observation_end='2021-09-05')\n",
    "    info = fred.get_series_info(key)\n",
    "    title = info['title']\n",
    "    print(title, info['frequency'], info[\"frequency_short\"])\n",
    "    df = pd.DataFrame(data).reset_index()\n",
    "    df.columns = ['date',f'{title}']\n",
    "    df.date = pd.to_datetime(df.date)\n",
    "    df[\"year\"] = df.date.dt.year\n",
    "    df[\"quarter\"] = df.date.dt.quarter\n",
    "    df = df.groupby([\"year\",\"quarter\"]).agg(\"mean\").reset_index()\n",
    "    if len(macro_data) == 0:\n",
    "        macro_data = df\n",
    "    else:\n",
    "        macro_data = macro_data.merge(df, on=[\"year\",\"quarter\"], how=\"outer\")"
   ]
  },
  {
   "cell_type": "code",
   "execution_count": 59,
   "id": "a4ae291d-7ab4-4c9b-bde6-a768e1149fd5",
   "metadata": {},
   "outputs": [],
   "source": [
    "macro_data.to_csv(\"macro_data.csv\")"
   ]
  },
  {
   "cell_type": "code",
   "execution_count": null,
   "id": "12bbcc72-bc42-450c-beff-a6881fc9394b",
   "metadata": {},
   "outputs": [],
   "source": [
    "data_dict = {}\n",
    "for key in macro_variables.keys():\n",
    "    data = fred.get_series(key, observation_start='2014-09-02', observation_end='2021-09-05')\n",
    "    info = fred.get_series_info(key)\n",
    "    title = info['title']\n",
    "    if macro_variables[key] == \"\":\n",
    "        macro_variables[key] = title\n",
    "        "
   ]
  },
  {
   "cell_type": "code",
   "execution_count": 30,
   "id": "01c72111-adf4-4e4a-a71e-52d19e941fd3",
   "metadata": {},
   "outputs": [
    {
     "data": {
      "text/plain": [
       "id                                                             A422RC1Q027SBEA\n",
       "realtime_start                                                      2021-11-12\n",
       "realtime_end                                                        2021-11-12\n",
       "title                        National income without capital consumption ad...\n",
       "observation_start                                                   1948-01-01\n",
       "observation_end                                                     2021-04-01\n",
       "frequency                                                            Quarterly\n",
       "frequency_short                                                              Q\n",
       "units                                                      Billions of Dollars\n",
       "units_short                                                          Bil. of $\n",
       "seasonal_adjustment                            Seasonally Adjusted Annual Rate\n",
       "seasonal_adjustment_short                                                 SAAR\n",
       "last_updated                                            2021-09-30 07:56:33-05\n",
       "popularity                                                                   4\n",
       "notes                        BEA Account Code: A422RC  For more information...\n",
       "dtype: object"
      ]
     },
     "execution_count": 30,
     "metadata": {},
     "output_type": "execute_result"
    }
   ],
   "source": [
    "info"
   ]
  },
  {
   "cell_type": "code",
   "execution_count": 9,
   "id": "0e9661a7-0f01-4612-874f-a3ff779f5afb",
   "metadata": {},
   "outputs": [
    {
     "data": {
      "text/plain": [
       "2020-07-01    21138.574\n",
       "2020-10-01    21477.597\n",
       "2021-01-01    22038.226\n",
       "2021-04-01    22740.959\n",
       "2021-07-01    23173.496\n",
       "dtype: float64"
      ]
     },
     "execution_count": 9,
     "metadata": {},
     "output_type": "execute_result"
    }
   ],
   "source": [
    "data.tail()"
   ]
  },
  {
   "cell_type": "code",
   "execution_count": 11,
   "id": "319c778d-6767-4cf4-9248-e07aca152934",
   "metadata": {},
   "outputs": [],
   "source": [
    "personal_income_series = fred.search_by_release(175, limit=5, order_by='popularity', sort_order='desc')"
   ]
  },
  {
   "cell_type": "code",
   "execution_count": 12,
   "id": "59279807-4fe8-498e-9151-d54bdbf0a893",
   "metadata": {},
   "outputs": [
    {
     "data": {
      "text/html": [
       "<div>\n",
       "<style scoped>\n",
       "    .dataframe tbody tr th:only-of-type {\n",
       "        vertical-align: middle;\n",
       "    }\n",
       "\n",
       "    .dataframe tbody tr th {\n",
       "        vertical-align: top;\n",
       "    }\n",
       "\n",
       "    .dataframe thead th {\n",
       "        text-align: right;\n",
       "    }\n",
       "</style>\n",
       "<table border=\"1\" class=\"dataframe\">\n",
       "  <thead>\n",
       "    <tr style=\"text-align: right;\">\n",
       "      <th></th>\n",
       "      <th>id</th>\n",
       "      <th>realtime_start</th>\n",
       "      <th>realtime_end</th>\n",
       "      <th>title</th>\n",
       "      <th>observation_start</th>\n",
       "      <th>observation_end</th>\n",
       "      <th>frequency</th>\n",
       "      <th>frequency_short</th>\n",
       "      <th>units</th>\n",
       "      <th>units_short</th>\n",
       "      <th>seasonal_adjustment</th>\n",
       "      <th>seasonal_adjustment_short</th>\n",
       "      <th>last_updated</th>\n",
       "      <th>popularity</th>\n",
       "      <th>notes</th>\n",
       "    </tr>\n",
       "    <tr>\n",
       "      <th>series id</th>\n",
       "      <th></th>\n",
       "      <th></th>\n",
       "      <th></th>\n",
       "      <th></th>\n",
       "      <th></th>\n",
       "      <th></th>\n",
       "      <th></th>\n",
       "      <th></th>\n",
       "      <th></th>\n",
       "      <th></th>\n",
       "      <th></th>\n",
       "      <th></th>\n",
       "      <th></th>\n",
       "      <th></th>\n",
       "      <th></th>\n",
       "    </tr>\n",
       "  </thead>\n",
       "  <tbody>\n",
       "    <tr>\n",
       "      <th>PCPI06037</th>\n",
       "      <td>PCPI06037</td>\n",
       "      <td>2021-11-11</td>\n",
       "      <td>2021-11-11</td>\n",
       "      <td>Per Capita Personal Income in Los Angeles Coun...</td>\n",
       "      <td>1969-01-01</td>\n",
       "      <td>2019-01-01</td>\n",
       "      <td>Annual</td>\n",
       "      <td>A</td>\n",
       "      <td>Dollars</td>\n",
       "      <td>$</td>\n",
       "      <td>Not Seasonally Adjusted</td>\n",
       "      <td>NSA</td>\n",
       "      <td>2020-11-17 11:04:02-06:00</td>\n",
       "      <td>30</td>\n",
       "      <td>Personal income is the income that is received...</td>\n",
       "    </tr>\n",
       "    <tr>\n",
       "      <th>PCPI40031</th>\n",
       "      <td>PCPI40031</td>\n",
       "      <td>2021-11-11</td>\n",
       "      <td>2021-11-11</td>\n",
       "      <td>Per Capita Personal Income in Comanche County, OK</td>\n",
       "      <td>1969-01-01</td>\n",
       "      <td>2019-01-01</td>\n",
       "      <td>Annual</td>\n",
       "      <td>A</td>\n",
       "      <td>Dollars</td>\n",
       "      <td>$</td>\n",
       "      <td>Not Seasonally Adjusted</td>\n",
       "      <td>NSA</td>\n",
       "      <td>2020-11-17 11:04:05-06:00</td>\n",
       "      <td>29</td>\n",
       "      <td>Personal income is the income that is received...</td>\n",
       "    </tr>\n",
       "    <tr>\n",
       "      <th>SEAT653PCPI</th>\n",
       "      <td>SEAT653PCPI</td>\n",
       "      <td>2021-11-11</td>\n",
       "      <td>2021-11-11</td>\n",
       "      <td>Per Capita Personal Income in Seattle-Tacoma-B...</td>\n",
       "      <td>1969-01-01</td>\n",
       "      <td>2019-01-01</td>\n",
       "      <td>Annual</td>\n",
       "      <td>A</td>\n",
       "      <td>Dollars</td>\n",
       "      <td>$</td>\n",
       "      <td>Not Seasonally Adjusted</td>\n",
       "      <td>NSA</td>\n",
       "      <td>2020-12-15 14:06:01-06:00</td>\n",
       "      <td>23</td>\n",
       "      <td>None</td>\n",
       "    </tr>\n",
       "    <tr>\n",
       "      <th>DALL148PCPI</th>\n",
       "      <td>DALL148PCPI</td>\n",
       "      <td>2021-11-11</td>\n",
       "      <td>2021-11-11</td>\n",
       "      <td>Per Capita Personal Income in Dallas-Fort Wort...</td>\n",
       "      <td>1969-01-01</td>\n",
       "      <td>2019-01-01</td>\n",
       "      <td>Annual</td>\n",
       "      <td>A</td>\n",
       "      <td>Dollars</td>\n",
       "      <td>$</td>\n",
       "      <td>Not Seasonally Adjusted</td>\n",
       "      <td>NSA</td>\n",
       "      <td>2020-12-15 14:06:03-06:00</td>\n",
       "      <td>22</td>\n",
       "      <td>None</td>\n",
       "    </tr>\n",
       "    <tr>\n",
       "      <th>CHIC917PCPI</th>\n",
       "      <td>CHIC917PCPI</td>\n",
       "      <td>2021-11-11</td>\n",
       "      <td>2021-11-11</td>\n",
       "      <td>Per Capita Personal Income in Chicago-Napervil...</td>\n",
       "      <td>1969-01-01</td>\n",
       "      <td>2019-01-01</td>\n",
       "      <td>Annual</td>\n",
       "      <td>A</td>\n",
       "      <td>Dollars</td>\n",
       "      <td>$</td>\n",
       "      <td>Not Seasonally Adjusted</td>\n",
       "      <td>NSA</td>\n",
       "      <td>2020-12-15 14:06:18-06:00</td>\n",
       "      <td>18</td>\n",
       "      <td>None</td>\n",
       "    </tr>\n",
       "  </tbody>\n",
       "</table>\n",
       "</div>"
      ],
      "text/plain": [
       "                      id realtime_start realtime_end  \\\n",
       "series id                                              \n",
       "PCPI06037      PCPI06037     2021-11-11   2021-11-11   \n",
       "PCPI40031      PCPI40031     2021-11-11   2021-11-11   \n",
       "SEAT653PCPI  SEAT653PCPI     2021-11-11   2021-11-11   \n",
       "DALL148PCPI  DALL148PCPI     2021-11-11   2021-11-11   \n",
       "CHIC917PCPI  CHIC917PCPI     2021-11-11   2021-11-11   \n",
       "\n",
       "                                                         title  \\\n",
       "series id                                                        \n",
       "PCPI06037    Per Capita Personal Income in Los Angeles Coun...   \n",
       "PCPI40031    Per Capita Personal Income in Comanche County, OK   \n",
       "SEAT653PCPI  Per Capita Personal Income in Seattle-Tacoma-B...   \n",
       "DALL148PCPI  Per Capita Personal Income in Dallas-Fort Wort...   \n",
       "CHIC917PCPI  Per Capita Personal Income in Chicago-Napervil...   \n",
       "\n",
       "            observation_start observation_end frequency frequency_short  \\\n",
       "series id                                                                 \n",
       "PCPI06037          1969-01-01      2019-01-01    Annual               A   \n",
       "PCPI40031          1969-01-01      2019-01-01    Annual               A   \n",
       "SEAT653PCPI        1969-01-01      2019-01-01    Annual               A   \n",
       "DALL148PCPI        1969-01-01      2019-01-01    Annual               A   \n",
       "CHIC917PCPI        1969-01-01      2019-01-01    Annual               A   \n",
       "\n",
       "               units units_short      seasonal_adjustment  \\\n",
       "series id                                                   \n",
       "PCPI06037    Dollars           $  Not Seasonally Adjusted   \n",
       "PCPI40031    Dollars           $  Not Seasonally Adjusted   \n",
       "SEAT653PCPI  Dollars           $  Not Seasonally Adjusted   \n",
       "DALL148PCPI  Dollars           $  Not Seasonally Adjusted   \n",
       "CHIC917PCPI  Dollars           $  Not Seasonally Adjusted   \n",
       "\n",
       "            seasonal_adjustment_short               last_updated popularity  \\\n",
       "series id                                                                     \n",
       "PCPI06037                         NSA  2020-11-17 11:04:02-06:00         30   \n",
       "PCPI40031                         NSA  2020-11-17 11:04:05-06:00         29   \n",
       "SEAT653PCPI                       NSA  2020-12-15 14:06:01-06:00         23   \n",
       "DALL148PCPI                       NSA  2020-12-15 14:06:03-06:00         22   \n",
       "CHIC917PCPI                       NSA  2020-12-15 14:06:18-06:00         18   \n",
       "\n",
       "                                                         notes  \n",
       "series id                                                       \n",
       "PCPI06037    Personal income is the income that is received...  \n",
       "PCPI40031    Personal income is the income that is received...  \n",
       "SEAT653PCPI                                               None  \n",
       "DALL148PCPI                                               None  \n",
       "CHIC917PCPI                                               None  "
      ]
     },
     "execution_count": 12,
     "metadata": {},
     "output_type": "execute_result"
    }
   ],
   "source": [
    "personal_income_series"
   ]
  },
  {
   "cell_type": "code",
   "execution_count": null,
   "id": "4b7dc4e5-55fb-40f1-9fa8-6e2890b3ccdf",
   "metadata": {},
   "outputs": [],
   "source": []
  }
 ],
 "metadata": {
  "kernelspec": {
   "display_name": "Python 3 (ipykernel)",
   "language": "python",
   "name": "python3"
  },
  "language_info": {
   "codemirror_mode": {
    "name": "ipython",
    "version": 3
   },
   "file_extension": ".py",
   "mimetype": "text/x-python",
   "name": "python",
   "nbconvert_exporter": "python",
   "pygments_lexer": "ipython3",
   "version": "3.8.7"
  }
 },
 "nbformat": 4,
 "nbformat_minor": 5
}
