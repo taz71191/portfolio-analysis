{
 "cells": [
  {
   "cell_type": "code",
   "execution_count": 1,
   "id": "3f674e2e-8db3-42a3-9336-d4a846f5de27",
   "metadata": {},
   "outputs": [],
   "source": [
    "import pandas as pd\n",
    "import numpy as np\n",
    "import pickle"
   ]
  },
  {
   "cell_type": "code",
   "execution_count": 3,
   "id": "4bb929b0-ce30-4b31-89b8-b3bd94f3bb76",
   "metadata": {},
   "outputs": [],
   "source": [
    "all_companies = pd.read_csv('AllCompanies_October_w_sector.csv')"
   ]
  },
  {
   "cell_type": "code",
   "execution_count": 4,
   "id": "0560a8de-fea3-4f23-bc43-4c119e2dd255",
   "metadata": {},
   "outputs": [],
   "source": [
    "macro_data = pd.read_csv('macro_data.csv')"
   ]
  },
  {
   "cell_type": "code",
   "execution_count": 5,
   "id": "8f22065a-50bf-4fcb-9383-6bde4607f521",
   "metadata": {},
   "outputs": [],
   "source": [
    "with open('company_metrics_dict.pickle', 'rb') as handle:\n",
    "    company_metrics = pickle.load(handle)"
   ]
  },
  {
   "cell_type": "code",
   "execution_count": 11,
   "id": "3bd71291-ef8c-4352-91d7-587e9274fbf6",
   "metadata": {},
   "outputs": [],
   "source": [
    "macro_data = macro_data.iloc[:, 1:]"
   ]
  },
  {
   "cell_type": "code",
   "execution_count": 16,
   "id": "c3c828f8-c234-4a68-ae6e-6d5d3d38a54c",
   "metadata": {},
   "outputs": [],
   "source": [
    "# prior year change in epd and revenue, past 5 years\n",
    "corr_df = pd.DataFrame()\n",
    "for key in company_metrics.keys():\n",
    "    df = company_metrics[key]\n",
    "    df = df.dropna(subset=[\"revenue\"]).sort_values(by='year')\n",
    "    comb = df.merge(macro_data, on=[\"year\",\"quarter\"])\n",
    "    corr_dict = {}\n",
    "    corr_dict[\"symbol\"] = key\n",
    "    metric= \"revenue\"\n",
    "    for macro in [\"Gross Domestic Product\",\"5-Year Breakeven Inflation Rate\",\"Consumer Price Index for All Urban Consumers: All Items in U.S. City Average\"]:\n",
    "        corr = comb[[metric, macro]].corr()\n",
    "        corr_name = metric + macro\n",
    "        corr_dict[corr_name] = corr.iloc[0,1]\n",
    "    corr_df = corr_df.append(pd.Series(corr_dict), ignore_index=True)"
   ]
  },
  {
   "cell_type": "code",
   "execution_count": 17,
   "id": "d9b861ba-19ea-4729-b5ca-b5d24ce85a18",
   "metadata": {},
   "outputs": [],
   "source": [
    "all_companies = all_companies.merge(corr_df, on=\"symbol\")"
   ]
  },
  {
   "cell_type": "code",
   "execution_count": 18,
   "id": "e7e82947-aecb-480d-8529-c373d72ae04f",
   "metadata": {},
   "outputs": [],
   "source": [
    "all_companies.to_csv(\"AllCompanies_October_w_sector.csv\")"
   ]
  },
  {
   "cell_type": "code",
   "execution_count": 26,
   "id": "bce844c4-4f6a-4e79-a514-dca7424162ab",
   "metadata": {},
   "outputs": [
    {
     "data": {
      "text/plain": [
       "['symbol',\n",
       " 'name',\n",
       " 'price',\n",
       " 'income_statement_date',\n",
       " 'ROC',\n",
       " 'EarningsYield',\n",
       " 'irr',\n",
       " 'npv_mean',\n",
       " 'npv_regression',\n",
       " 'regression_type',\n",
       " 'eps_roc',\n",
       " 'eps_roc_regression',\n",
       " 'ROE',\n",
       " 'eps_diluted',\n",
       " 'MOP',\n",
       " 'QA',\n",
       " 'MCap',\n",
       " 'eps_roc_flag',\n",
       " 'eps_base',\n",
       " 'eps_list',\n",
       " 'error_message',\n",
       " 'industry',\n",
       " 'dividend_ratio',\n",
       " 'dividend_trend',\n",
       " 'commonstock_repurchased_trend',\n",
       " 'commonstock_repurchased',\n",
       " 'PE',\n",
       " 'sector',\n",
       " 'percent_change_last_year_eps',\n",
       " 'percent_change_last_year_rev',\n",
       " 'percent_change_last_5year_eps',\n",
       " 'percent_change_last_5year_rev',\n",
       " 'percent_change_last_year_eps_sector',\n",
       " 'percent_change_last_year_rev_sector',\n",
       " 'percent_change_last_5year_eps_sector',\n",
       " 'percent_change_last_5year_rev_sector',\n",
       " 'ROC_sector',\n",
       " 'EarningsYield_sector',\n",
       " 'dividend_ratio_sector',\n",
       " 'revenueGross Domestic Product',\n",
       " 'revenue5-Year Breakeven Inflation Rate',\n",
       " 'revenueConsumer Price Index for All Urban Consumers: All Items in U.S. City Average']"
      ]
     },
     "execution_count": 26,
     "metadata": {},
     "output_type": "execute_result"
    }
   ],
   "source": [
    "[col for col in all_companies.columns if col[:7] != \"Unnamed\"]"
   ]
  },
  {
   "cell_type": "code",
   "execution_count": null,
   "id": "16e3367a-e3b4-434f-bc4e-0f160bd09175",
   "metadata": {},
   "outputs": [],
   "source": []
  }
 ],
 "metadata": {
  "kernelspec": {
   "display_name": "Python 3 (ipykernel)",
   "language": "python",
   "name": "python3"
  },
  "language_info": {
   "codemirror_mode": {
    "name": "ipython",
    "version": 3
   },
   "file_extension": ".py",
   "mimetype": "text/x-python",
   "name": "python",
   "nbconvert_exporter": "python",
   "pygments_lexer": "ipython3",
   "version": "3.8.7"
  }
 },
 "nbformat": 4,
 "nbformat_minor": 5
}
